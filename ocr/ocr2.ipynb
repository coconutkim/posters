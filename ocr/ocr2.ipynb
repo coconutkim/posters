{
 "cells": [
  {
   "cell_type": "code",
   "execution_count": null,
   "metadata": {
    "vscode": {
     "languageId": "plaintext"
    }
   },
   "outputs": [],
   "source": [
    "import easyocr\n",
    "import cv2\n",
    "import os\n",
    "\n",
    "reader = easyocr.Reader(['en','ko'])  # 영어 지원\n",
    "image = cv2.imread(os.path.join(os.path.dirname(__file__),'shark.jpg'))\n",
    "\n",
    "# # OCR 적용\n",
    "# results = reader.readtext(image)\n",
    "# for (bbox, text, prob) in results:\n",
    "#     print(f'Detected text: {text} with probability: {prob:.4f}')"
   ]
  }
 ],
 "metadata": {
  "language_info": {
   "name": "python"
  }
 },
 "nbformat": 4,
 "nbformat_minor": 2
}
