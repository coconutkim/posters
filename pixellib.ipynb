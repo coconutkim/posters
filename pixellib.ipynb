{
 "cells": [
  {
   "cell_type": "code",
   "execution_count": 6,
   "metadata": {},
   "outputs": [
    {
     "name": "stdout",
     "output_type": "stream",
     "text": [
      "이미지 파일이 존재합니다: C:\\ex\\posters\\test_pics\\52헤르츠 고래들_8796093022208.jpg\n",
      "이미지를 불러올 수 없습니다. 경로나 파일 형식을 확인하세요.\n"
     ]
    },
    {
     "name": "stderr",
     "output_type": "stream",
     "text": [
      "The checkpoint state_dict contains keys that are not used by the model:\n",
      "  \u001b[35mproposal_generator.anchor_generator.cell_anchors.{0, 1, 2, 3, 4}\u001b[0m\n"
     ]
    },
    {
     "ename": "AttributeError",
     "evalue": "'NoneType' object has no attribute 'shape'",
     "output_type": "error",
     "traceback": [
      "\u001b[1;31m---------------------------------------------------------------------------\u001b[0m",
      "\u001b[1;31mAttributeError\u001b[0m                            Traceback (most recent call last)",
      "Cell \u001b[1;32mIn[6], line 32\u001b[0m\n\u001b[0;32m     29\u001b[0m ins\u001b[38;5;241m.\u001b[39mload_model(pkl)\n\u001b[0;32m     31\u001b[0m \u001b[38;5;66;03m# 이미지 세그멘테이션 수행\u001b[39;00m\n\u001b[1;32m---> 32\u001b[0m \u001b[43mins\u001b[49m\u001b[38;5;241;43m.\u001b[39;49m\u001b[43msegmentImage\u001b[49m\u001b[43m(\u001b[49m\u001b[43mtest_img\u001b[49m\u001b[43m,\u001b[49m\u001b[43m \u001b[49m\u001b[43mshow_bboxes\u001b[49m\u001b[38;5;241;43m=\u001b[39;49m\u001b[38;5;28;43;01mTrue\u001b[39;49;00m\u001b[43m,\u001b[49m\u001b[43m \u001b[49m\u001b[43moutput_image_name\u001b[49m\u001b[38;5;241;43m=\u001b[39;49m\u001b[38;5;124;43m\"\u001b[39;49m\u001b[38;5;124;43moutput_image2.jpg\u001b[39;49m\u001b[38;5;124;43m\"\u001b[39;49m\u001b[43m)\u001b[49m\n",
      "File \u001b[1;32mc:\\Users\\chaey\\anaconda3\\envs\\cvmaster\\Lib\\site-packages\\pixellib\\torchbackend\\instance\\__init__.py:206\u001b[0m, in \u001b[0;36minstanceSegmentation.segmentImage\u001b[1;34m(self, image_path, segment_target_classes, show_bboxes, extract_segmented_objects, extract_from_box, save_extracted_objects, mask_points_values, output_image_name, text_thickness, text_size, box_thickness, verbose)\u001b[0m\n\u001b[0;32m    201\u001b[0m \u001b[38;5;28;01mdef\u001b[39;00m \u001b[38;5;21msegmentImage\u001b[39m(\u001b[38;5;28mself\u001b[39m, image_path,segment_target_classes \u001b[38;5;241m=\u001b[39m \u001b[38;5;28;01mNone\u001b[39;00m, show_bboxes \u001b[38;5;241m=\u001b[39m \u001b[38;5;28;01mFalse\u001b[39;00m, extract_segmented_objects \u001b[38;5;241m=\u001b[39m \u001b[38;5;28;01mFalse\u001b[39;00m,  extract_from_box \u001b[38;5;241m=\u001b[39m \u001b[38;5;28;01mFalse\u001b[39;00m,\n\u001b[0;32m    202\u001b[0m save_extracted_objects \u001b[38;5;241m=\u001b[39m \u001b[38;5;28;01mFalse\u001b[39;00m,mask_points_values \u001b[38;5;241m=\u001b[39m \u001b[38;5;28;01mFalse\u001b[39;00m, \n\u001b[0;32m    203\u001b[0m output_image_name \u001b[38;5;241m=\u001b[39m \u001b[38;5;28;01mNone\u001b[39;00m,  text_thickness \u001b[38;5;241m=\u001b[39m \u001b[38;5;241m1\u001b[39m, text_size \u001b[38;5;241m=\u001b[39m \u001b[38;5;241m0.6\u001b[39m, box_thickness \u001b[38;5;241m=\u001b[39m \u001b[38;5;241m2\u001b[39m, verbose \u001b[38;5;241m=\u001b[39m \u001b[38;5;28;01mNone\u001b[39;00m ):\n\u001b[0;32m    204\u001b[0m     image \u001b[38;5;241m=\u001b[39m cv2\u001b[38;5;241m.\u001b[39mimread(image_path)\n\u001b[1;32m--> 206\u001b[0m     outputs \u001b[38;5;241m=\u001b[39m \u001b[38;5;28;43mself\u001b[39;49m\u001b[38;5;241;43m.\u001b[39;49m\u001b[43mpredictor\u001b[49m\u001b[38;5;241;43m.\u001b[39;49m\u001b[43msegment\u001b[49m\u001b[43m(\u001b[49m\u001b[43mimage\u001b[49m\u001b[43m)\u001b[49m\n\u001b[0;32m    208\u001b[0m     masks \u001b[38;5;241m=\u001b[39m outputs[\u001b[38;5;124m\"\u001b[39m\u001b[38;5;124minstances\u001b[39m\u001b[38;5;124m\"\u001b[39m]\u001b[38;5;241m.\u001b[39mpred_masks\n\u001b[0;32m    209\u001b[0m     scores \u001b[38;5;241m=\u001b[39m outputs[\u001b[38;5;124m\"\u001b[39m\u001b[38;5;124minstances\u001b[39m\u001b[38;5;124m\"\u001b[39m]\u001b[38;5;241m.\u001b[39mscores\n",
      "File \u001b[1;32mc:\\Users\\chaey\\anaconda3\\envs\\cvmaster\\Lib\\site-packages\\pixellib\\torchbackend\\instance\\engine\\defaultseng.py:316\u001b[0m, in \u001b[0;36mDefaultPredictor.segment\u001b[1;34m(self, original_image)\u001b[0m\n\u001b[0;32m    313\u001b[0m \u001b[38;5;28;01mif\u001b[39;00m \u001b[38;5;28mself\u001b[39m\u001b[38;5;241m.\u001b[39minput_format \u001b[38;5;241m==\u001b[39m \u001b[38;5;124m\"\u001b[39m\u001b[38;5;124mRGB\u001b[39m\u001b[38;5;124m\"\u001b[39m:\n\u001b[0;32m    314\u001b[0m     \u001b[38;5;66;03m# whether the model expects BGR inputs or RGB\u001b[39;00m\n\u001b[0;32m    315\u001b[0m     original_image \u001b[38;5;241m=\u001b[39m original_image[:, :, ::\u001b[38;5;241m-\u001b[39m\u001b[38;5;241m1\u001b[39m]\n\u001b[1;32m--> 316\u001b[0m height, width \u001b[38;5;241m=\u001b[39m \u001b[43moriginal_image\u001b[49m\u001b[38;5;241;43m.\u001b[39;49m\u001b[43mshape\u001b[49m[:\u001b[38;5;241m2\u001b[39m]\n\u001b[0;32m    317\u001b[0m image \u001b[38;5;241m=\u001b[39m \u001b[38;5;28mself\u001b[39m\u001b[38;5;241m.\u001b[39maug\u001b[38;5;241m.\u001b[39mget_transform(original_image)\u001b[38;5;241m.\u001b[39mapply_image(original_image)\n\u001b[0;32m    318\u001b[0m image \u001b[38;5;241m=\u001b[39m torch\u001b[38;5;241m.\u001b[39mas_tensor(image\u001b[38;5;241m.\u001b[39mastype(\u001b[38;5;124m\"\u001b[39m\u001b[38;5;124mfloat32\u001b[39m\u001b[38;5;124m\"\u001b[39m)\u001b[38;5;241m.\u001b[39mtranspose(\u001b[38;5;241m2\u001b[39m, \u001b[38;5;241m0\u001b[39m, \u001b[38;5;241m1\u001b[39m))\n",
      "\u001b[1;31mAttributeError\u001b[0m: 'NoneType' object has no attribute 'shape'"
     ]
    }
   ],
   "source": [
    "import pixellib\n",
    "from pixellib.torchbackend.instance import instanceSegmentation\n",
    "import cv2\n",
    "import os\n",
    "\n",
    "# 테스트 사진 경로\n",
    "test_img_path = r'C:\\ex\\posters\\test_pics\\52헤르츠 고래들_8796093022208.jpg'\n",
    "\n",
    "# 파일이 존재하는지 확인\n",
    "if os.path.exists(test_img_path):\n",
    "    print(f\"이미지 파일이 존재합니다: {test_img_path}\")\n",
    "else:\n",
    "    print(f\"이미지 파일을 찾을 수 없습니다: {test_img_path}\")\n",
    "    exit()  # 파일이 없으면 프로그램 종료\n",
    "\n",
    "# 이미지 읽기\n",
    "test_img = cv2.imread(test_img_path)\n",
    "\n",
    "# 이미지가 None인지 확인\n",
    "if test_img is None:\n",
    "    print(\"이미지를 불러올 수 없습니다. 경로나 파일 형식을 확인하세요.\")\n",
    "else:\n",
    "    print(\"이미지를 성공적으로 불러왔습니다.\")\n",
    "    print(f\"이미지 크기: {test_img.shape}\")  # 이미지 크기 출력\n",
    "\n",
    "# 인스턴스 세그멘테이션 모델 로드\n",
    "ins = instanceSegmentation()\n",
    "pkl = r'G:\\내 드라이브\\#vscode_folder\\pointrend_resnet50.pkl'\n",
    "ins.load_model(pkl)\n",
    "\n",
    "# 이미지 세그멘테이션 수행\n",
    "ins.segmentImage(test_img, show_bboxes=True, output_image_name=\"output_image2.jpg\")\n"
   ]
  },
  {
   "cell_type": "code",
   "execution_count": 9,
   "metadata": {},
   "outputs": [
    {
     "name": "stdout",
     "output_type": "stream",
     "text": [
      "b'\\xff\\xd8\\xff\\xe0\\x00\\x10JFIF'\n"
     ]
    }
   ],
   "source": [
    "with open(test_img_path, 'rb') as f:\n",
    "    header = f.read(10)\n",
    "    print(header)  # JPEG 파일 헤더는 b'\\xff\\xd8'로 시작합니다.\n"
   ]
  },
  {
   "cell_type": "code",
   "execution_count": 11,
   "metadata": {},
   "outputs": [
    {
     "name": "stdout",
     "output_type": "stream",
     "text": [
      "<class 'NoneType'>\n"
     ]
    }
   ],
   "source": [
    "print(type(test_img)) "
   ]
  }
 ],
 "metadata": {
  "kernelspec": {
   "display_name": "cvmaster",
   "language": "python",
   "name": "python3"
  },
  "language_info": {
   "codemirror_mode": {
    "name": "ipython",
    "version": 3
   },
   "file_extension": ".py",
   "mimetype": "text/x-python",
   "name": "python",
   "nbconvert_exporter": "python",
   "pygments_lexer": "ipython3",
   "version": "3.11.10"
  }
 },
 "nbformat": 4,
 "nbformat_minor": 2
}
