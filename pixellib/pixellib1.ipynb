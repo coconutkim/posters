{
 "cells": [
  {
   "cell_type": "code",
   "execution_count": 3,
   "metadata": {},
   "outputs": [
    {
     "name": "stdout",
     "output_type": "stream",
     "text": [
      "이미지 파일이 존재합니다: C:\\ex\\posters\\test_pics\\52헤르츠 고래들_8796093022208.jpg\n",
      "이미지를 성공적으로 불러왔습니다.\n",
      "이미지 크기: (307, 212, 3)\n"
     ]
    },
    {
     "name": "stderr",
     "output_type": "stream",
     "text": [
      "The checkpoint state_dict contains keys that are not used by the model:\n",
      "  \u001b[35mproposal_generator.anchor_generator.cell_anchors.{0, 1, 2, 3, 4}\u001b[0m\n"
     ]
    }
   ],
   "source": [
    "import pixellib\n",
    "from pixellib.torchbackend.instance import instanceSegmentation\n",
    "import cv2\n",
    "import os\n",
    "\n",
    "# 테스트 사진 경로\n",
    "test_img_path = r'C:\\ex\\posters\\test_pics\\52헤르츠 고래들_8796093022208.jpg'\n",
    "\n",
    "# 파일이 존재하는지 확인\n",
    "if os.path.exists(test_img_path):\n",
    "    print(f\"이미지 파일이 존재합니다: {test_img_path}\")\n",
    "else:\n",
    "    print(f\"이미지 파일을 찾을 수 없습니다: {test_img_path}\")\n",
    "    exit()  # 파일이 없으면 프로그램 종료\n",
    "\n",
    "# 이미지 읽기\n",
    "test_img = cv2.imread(test_img_path)\n",
    "\n",
    "# 이미지가 None인지 확인\n",
    "if test_img is None:\n",
    "    print(\"이미지를 불러올 수 없습니다. 경로나 파일 형식을 확인하세요.\")\n",
    "else:\n",
    "    print(\"이미지를 성공적으로 불러왔습니다.\")\n",
    "    print(f\"이미지 크기: {test_img.shape}\")  # 이미지 크기 출력\n",
    "    \n",
    "    # pixellib import 문제 해결을 위한 초기화 함수\n",
    "    def init_pixellib():\n",
    "        return instanceSegmentation()\n",
    "\n",
    "    instance_seg = init_pixellib()\n",
    "\n",
    "    # 인스턴스 세그멘테이션 모델 로드\n",
    "    ins = instance_seg\n",
    "    pkl = r'G:\\내 드라이브\\#vscode_folder\\pointrend_resnet50.pkl'\n",
    "    ins.load_model(pkl)\n",
    "\n",
    "    # 이미지 배열을 임시 파일로 저장\n",
    "    temp_img_path = \"temp_image.jpg\"\n",
    "    cv2.imwrite(temp_img_path, test_img)\n",
    "\n",
    "    # 이미지 세그멘테이션 수행 (경로 사용)\n",
    "    ins.segmentImage(temp_img_path, show_bboxes=True, output_image_name=\"output_image4.jpg\")\n",
    "\n",
    "    # 임시 파일 삭제\n",
    "    if os.path.exists(temp_img_path):\n",
    "        os.remove(temp_img_path)"
   ]
  },
  {
   "cell_type": "code",
   "execution_count": 2,
   "metadata": {},
   "outputs": [
    {
     "data": {
      "text/plain": [
       "(304, 213, 3)"
      ]
     },
     "execution_count": 2,
     "metadata": {},
     "output_type": "execute_result"
    }
   ],
   "source": [
    "test_img.shape"
   ]
  },
  {
   "cell_type": "code",
   "execution_count": null,
   "metadata": {},
   "outputs": [],
   "source": [
    "# 픽셀립 파일 수정 경로\n",
    "# C:\\Users\\acy\\AppData\\Roaming\\Python\\Python311\\site-packages\\pixellib\\torchbackend\\instance\\data\\transforms\\transform.py\n",
    "\n",
    "# 수정 내용\n",
    "# 메모장으로 수정하고 저장할 것\n",
    "# from PIL import Image\n",
    "\n",
    "# class ExtentTransform(Transform):\n",
    "#     def __init__(self, src_rect, output_size, interp=Image.Resampling.LANCZOS, fill=0):\n",
    "#         # 기존 코드 유지\n",
    "#         super().__init__()"
   ]
  }
 ],
 "metadata": {
  "kernelspec": {
   "display_name": "cvmaster",
   "language": "python",
   "name": "python3"
  },
  "language_info": {
   "codemirror_mode": {
    "name": "ipython",
    "version": 3
   },
   "file_extension": ".py",
   "mimetype": "text/x-python",
   "name": "python",
   "nbconvert_exporter": "python",
   "pygments_lexer": "ipython3",
   "version": "3.11.9"
  }
 },
 "nbformat": 4,
 "nbformat_minor": 2
}
