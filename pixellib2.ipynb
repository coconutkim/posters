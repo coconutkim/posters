{
 "cells": [
  {
   "cell_type": "code",
   "execution_count": null,
   "metadata": {
    "vscode": {
     "languageId": "plaintext"
    }
   },
   "outputs": [],
   "source": [
    "import pixellib\n",
    "from pixellib.torchbackend.instance import instanceSegmentation\n",
    "\n",
    "ins = instanceSegmentation()\n",
    "ins.load_model(\"/home/acy/venv/source/PixelLib/pointrend_resnet50.pkl\")\n",
    "# target_classes = [person, bicycle, car, motorcycle, airplane,\n",
    "# bus, train, truck, boat, traffic_light, fire_hydrant, stop_sign,\n",
    "# parking_meter, bench, bird, cat, dog, horse, sheep, cow, elephant, bear, zebra,\n",
    "# giraffe, backpack, umbrella, handbag, tie, suitcase, frisbee, skis, snowboard,\n",
    "# sports_ball, kite, baseball_bat, baseball_glove, skateboard, surfboard, tennis_racket,\n",
    "# bottle, wine_glass, cup, fork, knife, spoon, bowl, banana, apple, sandwich, orange,\n",
    "# broccoli, carrot, hot_dog, pizza, donut, cake, chair, couch, potted_plant, bed,\n",
    "# dining_table, toilet, tv, laptop, mouse, remote, keyboard, cell_phone, microwave,\n",
    "# oven, toaster, sink, refrigerator, book, clock, vase, scissors, teddy_bear, hair_dryer,\n",
    "# toothbrus]\n",
    "target_classes = ins.select_target_classes(person = True)\n",
    "result, output = ins.segmentImage(\n",
    "    \"/home/acy/venv/source/PixelLib/Images/new_vid1.jpg\",\n",
    "    show_bboxes=True,\n",
    "    mask_points_values=True,\n",
    "    segment_target_classes = target_classes,\n",
    "    extract_segmented_objects=True,\n",
    "    extract_from_box = True,\n",
    "    box_thickness = 0,\n",
    "    text_size = 2,\n",
    "    text_thickness = 2,\n",
    "    output_image_name=\"output_image11.jpg\"\n",
    "                 )\n",
    "\n",
    "\n",
    "print(result)\n",
    "print(output)\n",
    "\n",
    "# ins.segmentImage(\n",
    "    # \"/home/acy/venv/source/PixelLib/Images/image.jpg\",\n",
    "    # show_bboxes=True,\n",
    "    # output_image_name=\"output_image.jpg\")\n",
    "    \n",
    "# image_path: Any,\n",
    "#     segment_target_classes: Any | None = None,\n",
    "#     show_bboxes: bool = False,\n",
    "#     extract_segmented_objects: bool = False,\n",
    "#     extract_from_box: bool = False,\n",
    "#     save_extracted_objects: bool = False,\n",
    "#     mask_points_values: bool = False,\n",
    "#     output_image_name: Any | None = None,\n",
    "#     text_thickness: int = 1,\n",
    "#     text_size: float = 0.6,\n",
    "#     box_thickness: int = 2,\n",
    "#     verbose: Any | None = None\n",
    "# /home/acy/venv/source/PixelLib/Images/image.jpg"
   ]
  }
 ],
 "metadata": {
  "language_info": {
   "name": "python"
  }
 },
 "nbformat": 4,
 "nbformat_minor": 2
}
